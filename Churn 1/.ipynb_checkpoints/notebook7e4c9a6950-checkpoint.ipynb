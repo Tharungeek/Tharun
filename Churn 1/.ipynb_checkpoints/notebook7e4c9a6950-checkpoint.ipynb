{
 "cells": [
  {
   "cell_type": "code",
   "execution_count": 1,
   "metadata": {
    "_cell_guid": "b1076dfc-b9ad-4769-8c92-a6c4dae69d19",
    "_uuid": "8f2839f25d086af736a60e9eeb907d3b93b6e0e5"
   },
   "outputs": [],
   "source": [
    "# This Python 3 environment comes with many helpful analytics libraries installed\n",
    "# It is defined by the kaggle/python Docker image: https://github.com/kaggle/docker-python\n",
    "# For example, here's several helpful packages to load\n",
    "\n",
    "import numpy as np # linear algebra\n",
    "import pandas as pd # data processing, CSV file I/O (e.g. pd.read_csv)\n",
    "\n",
    "# Input data files are available in the read-only \"../input/\" directory\n",
    "# For example, running this (by clicking run or pressing Shift+Enter) will list all files under the input directory\n",
    "\n",
    "import os\n",
    "for dirname, _, filenames in os.walk('/kaggle/input'):\n",
    "    for filename in filenames:\n",
    "        print(os.path.join(dirname, filename))\n",
    "\n",
    "# You can write up to 20GB to the current directory (/kaggle/working/) that gets preserved as output when you create a version using \"Save & Run All\" \n",
    "# You can also write temporary files to /kaggle/temp/, but they won't be saved outside of the current session"
   ]
  },
  {
   "cell_type": "code",
   "execution_count": 3,
   "metadata": {},
   "outputs": [
    {
     "ename": "FileNotFoundError",
     "evalue": "[Errno 2] No such file or directory: '/kaggle/input/predicting-churn-for-bank-customers/Churn_Modelling.csv'",
     "output_type": "error",
     "traceback": [
      "\u001b[1;31m---------------------------------------------------------------------------\u001b[0m",
      "\u001b[1;31mFileNotFoundError\u001b[0m                         Traceback (most recent call last)",
      "Cell \u001b[1;32mIn[3], line 1\u001b[0m\n\u001b[1;32m----> 1\u001b[0m df \u001b[38;5;241m=\u001b[39m pd\u001b[38;5;241m.\u001b[39mread_csv(\u001b[38;5;124m'\u001b[39m\u001b[38;5;124m/kaggle/input/predicting-churn-for-bank-customers/Churn_Modelling.csv\u001b[39m\u001b[38;5;124m'\u001b[39m)\n",
      "File \u001b[1;32mE:\\Anakonda\\Lib\\site-packages\\pandas\\io\\parsers\\readers.py:1026\u001b[0m, in \u001b[0;36mread_csv\u001b[1;34m(filepath_or_buffer, sep, delimiter, header, names, index_col, usecols, dtype, engine, converters, true_values, false_values, skipinitialspace, skiprows, skipfooter, nrows, na_values, keep_default_na, na_filter, verbose, skip_blank_lines, parse_dates, infer_datetime_format, keep_date_col, date_parser, date_format, dayfirst, cache_dates, iterator, chunksize, compression, thousands, decimal, lineterminator, quotechar, quoting, doublequote, escapechar, comment, encoding, encoding_errors, dialect, on_bad_lines, delim_whitespace, low_memory, memory_map, float_precision, storage_options, dtype_backend)\u001b[0m\n\u001b[0;32m   1013\u001b[0m kwds_defaults \u001b[38;5;241m=\u001b[39m _refine_defaults_read(\n\u001b[0;32m   1014\u001b[0m     dialect,\n\u001b[0;32m   1015\u001b[0m     delimiter,\n\u001b[1;32m   (...)\u001b[0m\n\u001b[0;32m   1022\u001b[0m     dtype_backend\u001b[38;5;241m=\u001b[39mdtype_backend,\n\u001b[0;32m   1023\u001b[0m )\n\u001b[0;32m   1024\u001b[0m kwds\u001b[38;5;241m.\u001b[39mupdate(kwds_defaults)\n\u001b[1;32m-> 1026\u001b[0m \u001b[38;5;28;01mreturn\u001b[39;00m _read(filepath_or_buffer, kwds)\n",
      "File \u001b[1;32mE:\\Anakonda\\Lib\\site-packages\\pandas\\io\\parsers\\readers.py:620\u001b[0m, in \u001b[0;36m_read\u001b[1;34m(filepath_or_buffer, kwds)\u001b[0m\n\u001b[0;32m    617\u001b[0m _validate_names(kwds\u001b[38;5;241m.\u001b[39mget(\u001b[38;5;124m\"\u001b[39m\u001b[38;5;124mnames\u001b[39m\u001b[38;5;124m\"\u001b[39m, \u001b[38;5;28;01mNone\u001b[39;00m))\n\u001b[0;32m    619\u001b[0m \u001b[38;5;66;03m# Create the parser.\u001b[39;00m\n\u001b[1;32m--> 620\u001b[0m parser \u001b[38;5;241m=\u001b[39m TextFileReader(filepath_or_buffer, \u001b[38;5;241m*\u001b[39m\u001b[38;5;241m*\u001b[39mkwds)\n\u001b[0;32m    622\u001b[0m \u001b[38;5;28;01mif\u001b[39;00m chunksize \u001b[38;5;129;01mor\u001b[39;00m iterator:\n\u001b[0;32m    623\u001b[0m     \u001b[38;5;28;01mreturn\u001b[39;00m parser\n",
      "File \u001b[1;32mE:\\Anakonda\\Lib\\site-packages\\pandas\\io\\parsers\\readers.py:1620\u001b[0m, in \u001b[0;36mTextFileReader.__init__\u001b[1;34m(self, f, engine, **kwds)\u001b[0m\n\u001b[0;32m   1617\u001b[0m     \u001b[38;5;28mself\u001b[39m\u001b[38;5;241m.\u001b[39moptions[\u001b[38;5;124m\"\u001b[39m\u001b[38;5;124mhas_index_names\u001b[39m\u001b[38;5;124m\"\u001b[39m] \u001b[38;5;241m=\u001b[39m kwds[\u001b[38;5;124m\"\u001b[39m\u001b[38;5;124mhas_index_names\u001b[39m\u001b[38;5;124m\"\u001b[39m]\n\u001b[0;32m   1619\u001b[0m \u001b[38;5;28mself\u001b[39m\u001b[38;5;241m.\u001b[39mhandles: IOHandles \u001b[38;5;241m|\u001b[39m \u001b[38;5;28;01mNone\u001b[39;00m \u001b[38;5;241m=\u001b[39m \u001b[38;5;28;01mNone\u001b[39;00m\n\u001b[1;32m-> 1620\u001b[0m \u001b[38;5;28mself\u001b[39m\u001b[38;5;241m.\u001b[39m_engine \u001b[38;5;241m=\u001b[39m \u001b[38;5;28mself\u001b[39m\u001b[38;5;241m.\u001b[39m_make_engine(f, \u001b[38;5;28mself\u001b[39m\u001b[38;5;241m.\u001b[39mengine)\n",
      "File \u001b[1;32mE:\\Anakonda\\Lib\\site-packages\\pandas\\io\\parsers\\readers.py:1880\u001b[0m, in \u001b[0;36mTextFileReader._make_engine\u001b[1;34m(self, f, engine)\u001b[0m\n\u001b[0;32m   1878\u001b[0m     \u001b[38;5;28;01mif\u001b[39;00m \u001b[38;5;124m\"\u001b[39m\u001b[38;5;124mb\u001b[39m\u001b[38;5;124m\"\u001b[39m \u001b[38;5;129;01mnot\u001b[39;00m \u001b[38;5;129;01min\u001b[39;00m mode:\n\u001b[0;32m   1879\u001b[0m         mode \u001b[38;5;241m+\u001b[39m\u001b[38;5;241m=\u001b[39m \u001b[38;5;124m\"\u001b[39m\u001b[38;5;124mb\u001b[39m\u001b[38;5;124m\"\u001b[39m\n\u001b[1;32m-> 1880\u001b[0m \u001b[38;5;28mself\u001b[39m\u001b[38;5;241m.\u001b[39mhandles \u001b[38;5;241m=\u001b[39m get_handle(\n\u001b[0;32m   1881\u001b[0m     f,\n\u001b[0;32m   1882\u001b[0m     mode,\n\u001b[0;32m   1883\u001b[0m     encoding\u001b[38;5;241m=\u001b[39m\u001b[38;5;28mself\u001b[39m\u001b[38;5;241m.\u001b[39moptions\u001b[38;5;241m.\u001b[39mget(\u001b[38;5;124m\"\u001b[39m\u001b[38;5;124mencoding\u001b[39m\u001b[38;5;124m\"\u001b[39m, \u001b[38;5;28;01mNone\u001b[39;00m),\n\u001b[0;32m   1884\u001b[0m     compression\u001b[38;5;241m=\u001b[39m\u001b[38;5;28mself\u001b[39m\u001b[38;5;241m.\u001b[39moptions\u001b[38;5;241m.\u001b[39mget(\u001b[38;5;124m\"\u001b[39m\u001b[38;5;124mcompression\u001b[39m\u001b[38;5;124m\"\u001b[39m, \u001b[38;5;28;01mNone\u001b[39;00m),\n\u001b[0;32m   1885\u001b[0m     memory_map\u001b[38;5;241m=\u001b[39m\u001b[38;5;28mself\u001b[39m\u001b[38;5;241m.\u001b[39moptions\u001b[38;5;241m.\u001b[39mget(\u001b[38;5;124m\"\u001b[39m\u001b[38;5;124mmemory_map\u001b[39m\u001b[38;5;124m\"\u001b[39m, \u001b[38;5;28;01mFalse\u001b[39;00m),\n\u001b[0;32m   1886\u001b[0m     is_text\u001b[38;5;241m=\u001b[39mis_text,\n\u001b[0;32m   1887\u001b[0m     errors\u001b[38;5;241m=\u001b[39m\u001b[38;5;28mself\u001b[39m\u001b[38;5;241m.\u001b[39moptions\u001b[38;5;241m.\u001b[39mget(\u001b[38;5;124m\"\u001b[39m\u001b[38;5;124mencoding_errors\u001b[39m\u001b[38;5;124m\"\u001b[39m, \u001b[38;5;124m\"\u001b[39m\u001b[38;5;124mstrict\u001b[39m\u001b[38;5;124m\"\u001b[39m),\n\u001b[0;32m   1888\u001b[0m     storage_options\u001b[38;5;241m=\u001b[39m\u001b[38;5;28mself\u001b[39m\u001b[38;5;241m.\u001b[39moptions\u001b[38;5;241m.\u001b[39mget(\u001b[38;5;124m\"\u001b[39m\u001b[38;5;124mstorage_options\u001b[39m\u001b[38;5;124m\"\u001b[39m, \u001b[38;5;28;01mNone\u001b[39;00m),\n\u001b[0;32m   1889\u001b[0m )\n\u001b[0;32m   1890\u001b[0m \u001b[38;5;28;01massert\u001b[39;00m \u001b[38;5;28mself\u001b[39m\u001b[38;5;241m.\u001b[39mhandles \u001b[38;5;129;01mis\u001b[39;00m \u001b[38;5;129;01mnot\u001b[39;00m \u001b[38;5;28;01mNone\u001b[39;00m\n\u001b[0;32m   1891\u001b[0m f \u001b[38;5;241m=\u001b[39m \u001b[38;5;28mself\u001b[39m\u001b[38;5;241m.\u001b[39mhandles\u001b[38;5;241m.\u001b[39mhandle\n",
      "File \u001b[1;32mE:\\Anakonda\\Lib\\site-packages\\pandas\\io\\common.py:873\u001b[0m, in \u001b[0;36mget_handle\u001b[1;34m(path_or_buf, mode, encoding, compression, memory_map, is_text, errors, storage_options)\u001b[0m\n\u001b[0;32m    868\u001b[0m \u001b[38;5;28;01melif\u001b[39;00m \u001b[38;5;28misinstance\u001b[39m(handle, \u001b[38;5;28mstr\u001b[39m):\n\u001b[0;32m    869\u001b[0m     \u001b[38;5;66;03m# Check whether the filename is to be opened in binary mode.\u001b[39;00m\n\u001b[0;32m    870\u001b[0m     \u001b[38;5;66;03m# Binary mode does not support 'encoding' and 'newline'.\u001b[39;00m\n\u001b[0;32m    871\u001b[0m     \u001b[38;5;28;01mif\u001b[39;00m ioargs\u001b[38;5;241m.\u001b[39mencoding \u001b[38;5;129;01mand\u001b[39;00m \u001b[38;5;124m\"\u001b[39m\u001b[38;5;124mb\u001b[39m\u001b[38;5;124m\"\u001b[39m \u001b[38;5;129;01mnot\u001b[39;00m \u001b[38;5;129;01min\u001b[39;00m ioargs\u001b[38;5;241m.\u001b[39mmode:\n\u001b[0;32m    872\u001b[0m         \u001b[38;5;66;03m# Encoding\u001b[39;00m\n\u001b[1;32m--> 873\u001b[0m         handle \u001b[38;5;241m=\u001b[39m \u001b[38;5;28mopen\u001b[39m(\n\u001b[0;32m    874\u001b[0m             handle,\n\u001b[0;32m    875\u001b[0m             ioargs\u001b[38;5;241m.\u001b[39mmode,\n\u001b[0;32m    876\u001b[0m             encoding\u001b[38;5;241m=\u001b[39mioargs\u001b[38;5;241m.\u001b[39mencoding,\n\u001b[0;32m    877\u001b[0m             errors\u001b[38;5;241m=\u001b[39merrors,\n\u001b[0;32m    878\u001b[0m             newline\u001b[38;5;241m=\u001b[39m\u001b[38;5;124m\"\u001b[39m\u001b[38;5;124m\"\u001b[39m,\n\u001b[0;32m    879\u001b[0m         )\n\u001b[0;32m    880\u001b[0m     \u001b[38;5;28;01melse\u001b[39;00m:\n\u001b[0;32m    881\u001b[0m         \u001b[38;5;66;03m# Binary mode\u001b[39;00m\n\u001b[0;32m    882\u001b[0m         handle \u001b[38;5;241m=\u001b[39m \u001b[38;5;28mopen\u001b[39m(handle, ioargs\u001b[38;5;241m.\u001b[39mmode)\n",
      "\u001b[1;31mFileNotFoundError\u001b[0m: [Errno 2] No such file or directory: '/kaggle/input/predicting-churn-for-bank-customers/Churn_Modelling.csv'"
     ]
    }
   ],
   "source": [
    "df = pd.read_csv('/kaggle/input/predicting-churn-for-bank-customers/Churn_Modelling.csv')"
   ]
  },
  {
   "cell_type": "code",
   "execution_count": null,
   "metadata": {
    "execution": {
     "iopub.execute_input": "2024-02-07T20:18:25.520706Z",
     "iopub.status.busy": "2024-02-07T20:18:25.519972Z",
     "iopub.status.idle": "2024-02-07T20:18:25.547048Z",
     "shell.execute_reply": "2024-02-07T20:18:25.546145Z",
     "shell.execute_reply.started": "2024-02-07T20:18:25.520668Z"
    }
   },
   "outputs": [],
   "source": [
    "df.head()"
   ]
  },
  {
   "cell_type": "code",
   "execution_count": null,
   "metadata": {
    "execution": {
     "iopub.execute_input": "2024-02-07T20:18:25.550442Z",
     "iopub.status.busy": "2024-02-07T20:18:25.550002Z",
     "iopub.status.idle": "2024-02-07T20:18:25.565535Z",
     "shell.execute_reply": "2024-02-07T20:18:25.564455Z",
     "shell.execute_reply.started": "2024-02-07T20:18:25.550404Z"
    }
   },
   "outputs": [],
   "source": [
    "df.tail()"
   ]
  },
  {
   "cell_type": "code",
   "execution_count": null,
   "metadata": {
    "execution": {
     "iopub.execute_input": "2024-02-07T20:18:25.568079Z",
     "iopub.status.busy": "2024-02-07T20:18:25.56732Z",
     "iopub.status.idle": "2024-02-07T20:18:25.57554Z",
     "shell.execute_reply": "2024-02-07T20:18:25.574751Z",
     "shell.execute_reply.started": "2024-02-07T20:18:25.56804Z"
    }
   },
   "outputs": [],
   "source": [
    "df.shape"
   ]
  },
  {
   "cell_type": "code",
   "execution_count": null,
   "metadata": {
    "execution": {
     "iopub.execute_input": "2024-02-07T20:18:25.577329Z",
     "iopub.status.busy": "2024-02-07T20:18:25.576783Z",
     "iopub.status.idle": "2024-02-07T20:18:25.6142Z",
     "shell.execute_reply": "2024-02-07T20:18:25.613107Z",
     "shell.execute_reply.started": "2024-02-07T20:18:25.577302Z"
    }
   },
   "outputs": [],
   "source": [
    "df.info()"
   ]
  },
  {
   "cell_type": "code",
   "execution_count": null,
   "metadata": {
    "execution": {
     "iopub.execute_input": "2024-02-07T20:18:25.615958Z",
     "iopub.status.busy": "2024-02-07T20:18:25.615563Z",
     "iopub.status.idle": "2024-02-07T20:18:25.628292Z",
     "shell.execute_reply": "2024-02-07T20:18:25.626838Z",
     "shell.execute_reply.started": "2024-02-07T20:18:25.615919Z"
    }
   },
   "outputs": [],
   "source": [
    "df.isnull().sum()"
   ]
  },
  {
   "cell_type": "code",
   "execution_count": null,
   "metadata": {
    "execution": {
     "iopub.execute_input": "2024-02-07T20:18:25.630057Z",
     "iopub.status.busy": "2024-02-07T20:18:25.629643Z",
     "iopub.status.idle": "2024-02-07T20:18:25.68607Z",
     "shell.execute_reply": "2024-02-07T20:18:25.684978Z",
     "shell.execute_reply.started": "2024-02-07T20:18:25.63Z"
    }
   },
   "outputs": [],
   "source": [
    "df.describe()"
   ]
  },
  {
   "cell_type": "code",
   "execution_count": null,
   "metadata": {
    "execution": {
     "iopub.execute_input": "2024-02-07T20:18:41.863225Z",
     "iopub.status.busy": "2024-02-07T20:18:41.86285Z",
     "iopub.status.idle": "2024-02-07T20:18:41.87194Z",
     "shell.execute_reply": "2024-02-07T20:18:41.871097Z",
     "shell.execute_reply.started": "2024-02-07T20:18:41.863193Z"
    }
   },
   "outputs": [],
   "source": [
    "# dropping irrelevent features\n",
    "\n",
    "df.drop(columns=['RowNumber','CustomerId','Surname'],inplace=True,axis=1)"
   ]
  },
  {
   "cell_type": "code",
   "execution_count": null,
   "metadata": {
    "execution": {
     "iopub.execute_input": "2024-02-07T20:18:47.523939Z",
     "iopub.status.busy": "2024-02-07T20:18:47.523591Z",
     "iopub.status.idle": "2024-02-07T20:18:47.540905Z",
     "shell.execute_reply": "2024-02-07T20:18:47.539655Z",
     "shell.execute_reply.started": "2024-02-07T20:18:47.523914Z"
    }
   },
   "outputs": [],
   "source": [
    "df.head()"
   ]
  },
  {
   "cell_type": "markdown",
   "metadata": {},
   "source": [
    "#### Encoding Categorical Data"
   ]
  },
  {
   "cell_type": "code",
   "execution_count": null,
   "metadata": {
    "execution": {
     "iopub.execute_input": "2024-02-07T20:20:44.362398Z",
     "iopub.status.busy": "2024-02-07T20:20:44.36122Z",
     "iopub.status.idle": "2024-02-07T20:20:44.37558Z",
     "shell.execute_reply": "2024-02-07T20:20:44.374378Z",
     "shell.execute_reply.started": "2024-02-07T20:20:44.362361Z"
    }
   },
   "outputs": [],
   "source": [
    "df['Geography'].value_counts()"
   ]
  },
  {
   "cell_type": "code",
   "execution_count": null,
   "metadata": {
    "execution": {
     "iopub.execute_input": "2024-02-07T20:20:49.353917Z",
     "iopub.status.busy": "2024-02-07T20:20:49.353527Z",
     "iopub.status.idle": "2024-02-07T20:20:49.363363Z",
     "shell.execute_reply": "2024-02-07T20:20:49.362071Z",
     "shell.execute_reply.started": "2024-02-07T20:20:49.353886Z"
    }
   },
   "outputs": [],
   "source": [
    "df['Gender'].value_counts()"
   ]
  },
  {
   "cell_type": "code",
   "execution_count": null,
   "metadata": {
    "execution": {
     "iopub.execute_input": "2024-02-07T20:22:11.884539Z",
     "iopub.status.busy": "2024-02-07T20:22:11.884154Z",
     "iopub.status.idle": "2024-02-07T20:22:11.898106Z",
     "shell.execute_reply": "2024-02-07T20:22:11.896643Z",
     "shell.execute_reply.started": "2024-02-07T20:22:11.884512Z"
    }
   },
   "outputs": [],
   "source": [
    "df = pd.get_dummies(df,drop_first=True)"
   ]
  },
  {
   "cell_type": "code",
   "execution_count": null,
   "metadata": {
    "execution": {
     "iopub.execute_input": "2024-02-07T20:22:15.655918Z",
     "iopub.status.busy": "2024-02-07T20:22:15.655523Z",
     "iopub.status.idle": "2024-02-07T20:22:15.671243Z",
     "shell.execute_reply": "2024-02-07T20:22:15.67019Z",
     "shell.execute_reply.started": "2024-02-07T20:22:15.655887Z"
    }
   },
   "outputs": [],
   "source": [
    "df.head()"
   ]
  },
  {
   "cell_type": "code",
   "execution_count": null,
   "metadata": {
    "execution": {
     "iopub.execute_input": "2024-02-07T20:25:31.86245Z",
     "iopub.status.busy": "2024-02-07T20:25:31.862084Z",
     "iopub.status.idle": "2024-02-07T20:25:31.874755Z",
     "shell.execute_reply": "2024-02-07T20:25:31.8735Z",
     "shell.execute_reply.started": "2024-02-07T20:25:31.862423Z"
    }
   },
   "outputs": [],
   "source": [
    "df['Geography_Germany'].replace({False:0,True:1},inplace=True)\n",
    "df['Geography_Spain'].replace({False:0,True:1},inplace=True)\n",
    "df['Gender_Male'].replace({False:0,True:1},inplace=True)"
   ]
  },
  {
   "cell_type": "code",
   "execution_count": null,
   "metadata": {
    "execution": {
     "iopub.execute_input": "2024-02-07T20:25:45.015196Z",
     "iopub.status.busy": "2024-02-07T20:25:45.01481Z",
     "iopub.status.idle": "2024-02-07T20:25:45.028611Z",
     "shell.execute_reply": "2024-02-07T20:25:45.027868Z",
     "shell.execute_reply.started": "2024-02-07T20:25:45.015168Z"
    }
   },
   "outputs": [],
   "source": [
    "df.head()"
   ]
  },
  {
   "cell_type": "code",
   "execution_count": null,
   "metadata": {
    "execution": {
     "iopub.execute_input": "2024-02-07T20:26:33.05679Z",
     "iopub.status.busy": "2024-02-07T20:26:33.056426Z",
     "iopub.status.idle": "2024-02-07T20:26:33.069643Z",
     "shell.execute_reply": "2024-02-07T20:26:33.068401Z",
     "shell.execute_reply.started": "2024-02-07T20:26:33.056762Z"
    }
   },
   "outputs": [],
   "source": [
    "df.info()"
   ]
  },
  {
   "cell_type": "code",
   "execution_count": null,
   "metadata": {
    "execution": {
     "iopub.execute_input": "2024-02-07T20:31:44.013691Z",
     "iopub.status.busy": "2024-02-07T20:31:44.013234Z",
     "iopub.status.idle": "2024-02-07T20:31:44.025837Z",
     "shell.execute_reply": "2024-02-07T20:31:44.024699Z",
     "shell.execute_reply.started": "2024-02-07T20:31:44.013655Z"
    }
   },
   "outputs": [],
   "source": [
    "df['Exited'].value_counts()"
   ]
  },
  {
   "cell_type": "code",
   "execution_count": null,
   "metadata": {
    "execution": {
     "iopub.execute_input": "2024-02-07T20:31:22.899003Z",
     "iopub.status.busy": "2024-02-07T20:31:22.898618Z",
     "iopub.status.idle": "2024-02-07T20:31:22.904086Z",
     "shell.execute_reply": "2024-02-07T20:31:22.902808Z",
     "shell.execute_reply.started": "2024-02-07T20:31:22.898974Z"
    }
   },
   "outputs": [],
   "source": [
    "import seaborn as sns"
   ]
  },
  {
   "cell_type": "code",
   "execution_count": null,
   "metadata": {
    "execution": {
     "iopub.execute_input": "2024-02-07T20:32:35.105421Z",
     "iopub.status.busy": "2024-02-07T20:32:35.105042Z",
     "iopub.status.idle": "2024-02-07T20:32:35.2735Z",
     "shell.execute_reply": "2024-02-07T20:32:35.272358Z",
     "shell.execute_reply.started": "2024-02-07T20:32:35.105395Z"
    }
   },
   "outputs": [],
   "source": [
    "sns.countplot(data=df,x=df['Exited'])"
   ]
  },
  {
   "cell_type": "code",
   "execution_count": null,
   "metadata": {
    "execution": {
     "iopub.execute_input": "2024-02-07T20:36:34.357379Z",
     "iopub.status.busy": "2024-02-07T20:36:34.35611Z",
     "iopub.status.idle": "2024-02-07T20:36:34.367143Z",
     "shell.execute_reply": "2024-02-07T20:36:34.365711Z",
     "shell.execute_reply.started": "2024-02-07T20:36:34.357332Z"
    }
   },
   "outputs": [],
   "source": [
    "X = df.drop(['Exited'],axis=1)\n",
    "\n",
    "y = df['Exited']"
   ]
  },
  {
   "cell_type": "code",
   "execution_count": null,
   "metadata": {
    "execution": {
     "iopub.execute_input": "2024-02-07T20:36:53.254241Z",
     "iopub.status.busy": "2024-02-07T20:36:53.25383Z",
     "iopub.status.idle": "2024-02-07T20:36:53.269101Z",
     "shell.execute_reply": "2024-02-07T20:36:53.268066Z",
     "shell.execute_reply.started": "2024-02-07T20:36:53.254209Z"
    }
   },
   "outputs": [],
   "source": [
    "X.head()"
   ]
  },
  {
   "cell_type": "code",
   "execution_count": null,
   "metadata": {
    "execution": {
     "iopub.execute_input": "2024-02-07T20:37:03.487462Z",
     "iopub.status.busy": "2024-02-07T20:37:03.486946Z",
     "iopub.status.idle": "2024-02-07T20:37:03.496724Z",
     "shell.execute_reply": "2024-02-07T20:37:03.495404Z",
     "shell.execute_reply.started": "2024-02-07T20:37:03.487423Z"
    }
   },
   "outputs": [],
   "source": [
    "y.head()"
   ]
  },
  {
   "cell_type": "markdown",
   "metadata": {},
   "source": [
    "### Handling Imbalanced Data with SMOTE (Synthetic Minority Oversampling TEchnique)"
   ]
  },
  {
   "cell_type": "code",
   "execution_count": null,
   "metadata": {
    "execution": {
     "iopub.execute_input": "2024-02-07T20:53:35.460885Z",
     "iopub.status.busy": "2024-02-07T20:53:35.460537Z",
     "iopub.status.idle": "2024-02-07T20:53:35.465674Z",
     "shell.execute_reply": "2024-02-07T20:53:35.464706Z",
     "shell.execute_reply.started": "2024-02-07T20:53:35.460857Z"
    }
   },
   "outputs": [],
   "source": [
    "from imblearn.over_sampling import SMOTE"
   ]
  },
  {
   "cell_type": "code",
   "execution_count": null,
   "metadata": {
    "execution": {
     "iopub.execute_input": "2024-02-07T20:54:23.12465Z",
     "iopub.status.busy": "2024-02-07T20:54:23.124247Z",
     "iopub.status.idle": "2024-02-07T20:54:23.157763Z",
     "shell.execute_reply": "2024-02-07T20:54:23.156732Z",
     "shell.execute_reply.started": "2024-02-07T20:54:23.124622Z"
    }
   },
   "outputs": [],
   "source": [
    "X_new, y_new = SMOTE().fit_resample(X,y)"
   ]
  },
  {
   "cell_type": "code",
   "execution_count": null,
   "metadata": {
    "execution": {
     "iopub.execute_input": "2024-02-07T20:55:12.944724Z",
     "iopub.status.busy": "2024-02-07T20:55:12.944276Z",
     "iopub.status.idle": "2024-02-07T20:55:12.95251Z",
     "shell.execute_reply": "2024-02-07T20:55:12.951298Z",
     "shell.execute_reply.started": "2024-02-07T20:55:12.94469Z"
    }
   },
   "outputs": [],
   "source": [
    "X.shape, y.shape, X_new.shape, y_new.shape"
   ]
  },
  {
   "cell_type": "code",
   "execution_count": null,
   "metadata": {
    "execution": {
     "iopub.execute_input": "2024-02-07T20:55:27.058344Z",
     "iopub.status.busy": "2024-02-07T20:55:27.05736Z",
     "iopub.status.idle": "2024-02-07T20:55:27.065466Z",
     "shell.execute_reply": "2024-02-07T20:55:27.064281Z",
     "shell.execute_reply.started": "2024-02-07T20:55:27.058309Z"
    }
   },
   "outputs": [],
   "source": [
    "y.value_counts()"
   ]
  },
  {
   "cell_type": "code",
   "execution_count": null,
   "metadata": {
    "execution": {
     "iopub.execute_input": "2024-02-07T20:54:31.719248Z",
     "iopub.status.busy": "2024-02-07T20:54:31.718836Z",
     "iopub.status.idle": "2024-02-07T20:54:31.729062Z",
     "shell.execute_reply": "2024-02-07T20:54:31.727631Z",
     "shell.execute_reply.started": "2024-02-07T20:54:31.719219Z"
    }
   },
   "outputs": [],
   "source": [
    "y_new.value_counts()"
   ]
  },
  {
   "cell_type": "code",
   "execution_count": null,
   "metadata": {
    "execution": {
     "iopub.execute_input": "2024-02-07T20:56:02.353972Z",
     "iopub.status.busy": "2024-02-07T20:56:02.353609Z",
     "iopub.status.idle": "2024-02-07T20:56:02.366574Z",
     "shell.execute_reply": "2024-02-07T20:56:02.365103Z",
     "shell.execute_reply.started": "2024-02-07T20:56:02.353944Z"
    }
   },
   "outputs": [],
   "source": [
    "# splitting the data into train and test set\n",
    "\n",
    "from sklearn.model_selection import train_test_split\n",
    "\n",
    "X_train, X_test, y_train, y_test = train_test_split(X_new,y_new,test_size=0.2,random_state=42)"
   ]
  },
  {
   "cell_type": "code",
   "execution_count": null,
   "metadata": {
    "execution": {
     "iopub.execute_input": "2024-02-07T20:56:03.952363Z",
     "iopub.status.busy": "2024-02-07T20:56:03.951961Z",
     "iopub.status.idle": "2024-02-07T20:56:03.958985Z",
     "shell.execute_reply": "2024-02-07T20:56:03.957891Z",
     "shell.execute_reply.started": "2024-02-07T20:56:03.952334Z"
    }
   },
   "outputs": [],
   "source": [
    "X_train.shape,X_test.shape,y_train.shape,y_test.shape"
   ]
  },
  {
   "cell_type": "code",
   "execution_count": null,
   "metadata": {
    "execution": {
     "iopub.execute_input": "2024-02-07T20:56:09.212699Z",
     "iopub.status.busy": "2024-02-07T20:56:09.211849Z",
     "iopub.status.idle": "2024-02-07T20:56:09.219674Z",
     "shell.execute_reply": "2024-02-07T20:56:09.218864Z",
     "shell.execute_reply.started": "2024-02-07T20:56:09.212667Z"
    }
   },
   "outputs": [],
   "source": [
    "y_train.value_counts()"
   ]
  },
  {
   "cell_type": "code",
   "execution_count": null,
   "metadata": {
    "execution": {
     "iopub.execute_input": "2024-02-07T20:56:17.177052Z",
     "iopub.status.busy": "2024-02-07T20:56:17.176618Z",
     "iopub.status.idle": "2024-02-07T20:56:17.185282Z",
     "shell.execute_reply": "2024-02-07T20:56:17.184178Z",
     "shell.execute_reply.started": "2024-02-07T20:56:17.176996Z"
    }
   },
   "outputs": [],
   "source": [
    "y_test.value_counts()"
   ]
  },
  {
   "cell_type": "code",
   "execution_count": null,
   "metadata": {
    "execution": {
     "iopub.execute_input": "2024-02-07T20:56:27.438354Z",
     "iopub.status.busy": "2024-02-07T20:56:27.437979Z",
     "iopub.status.idle": "2024-02-07T20:56:27.455446Z",
     "shell.execute_reply": "2024-02-07T20:56:27.454145Z",
     "shell.execute_reply.started": "2024-02-07T20:56:27.438328Z"
    }
   },
   "outputs": [],
   "source": [
    "# Feature Scaling\n",
    "from sklearn.preprocessing import StandardScaler\n",
    "\n",
    "scaler = StandardScaler()\n",
    "\n",
    "X_train = scaler.fit_transform(X_train)\n",
    "X_test = scaler.transform(X_test)"
   ]
  },
  {
   "cell_type": "code",
   "execution_count": null,
   "metadata": {
    "execution": {
     "iopub.execute_input": "2024-02-07T20:56:29.328882Z",
     "iopub.status.busy": "2024-02-07T20:56:29.327852Z",
     "iopub.status.idle": "2024-02-07T20:56:29.335284Z",
     "shell.execute_reply": "2024-02-07T20:56:29.334239Z",
     "shell.execute_reply.started": "2024-02-07T20:56:29.328846Z"
    }
   },
   "outputs": [],
   "source": [
    "X_train"
   ]
  },
  {
   "cell_type": "markdown",
   "metadata": {},
   "source": [
    "### 1. Logistic Regression Model"
   ]
  },
  {
   "cell_type": "code",
   "execution_count": null,
   "metadata": {
    "execution": {
     "iopub.execute_input": "2024-02-07T20:56:32.351846Z",
     "iopub.status.busy": "2024-02-07T20:56:32.351469Z",
     "iopub.status.idle": "2024-02-07T20:56:32.378542Z",
     "shell.execute_reply": "2024-02-07T20:56:32.377539Z",
     "shell.execute_reply.started": "2024-02-07T20:56:32.351816Z"
    }
   },
   "outputs": [],
   "source": [
    "from sklearn.linear_model import LogisticRegression\n",
    "\n",
    "lr_model = LogisticRegression()\n",
    "\n",
    "lr_model.fit(X_train, y_train)"
   ]
  },
  {
   "cell_type": "code",
   "execution_count": null,
   "metadata": {
    "execution": {
     "iopub.execute_input": "2024-02-07T20:56:34.001249Z",
     "iopub.status.busy": "2024-02-07T20:56:34.000094Z",
     "iopub.status.idle": "2024-02-07T20:56:34.00947Z",
     "shell.execute_reply": "2024-02-07T20:56:34.00808Z",
     "shell.execute_reply.started": "2024-02-07T20:56:34.001132Z"
    }
   },
   "outputs": [],
   "source": [
    "y_pred_lr = lr_model.predict(X_test)"
   ]
  },
  {
   "cell_type": "code",
   "execution_count": null,
   "metadata": {
    "execution": {
     "iopub.execute_input": "2024-02-07T20:56:44.60271Z",
     "iopub.status.busy": "2024-02-07T20:56:44.602318Z",
     "iopub.status.idle": "2024-02-07T20:56:44.608324Z",
     "shell.execute_reply": "2024-02-07T20:56:44.607069Z",
     "shell.execute_reply.started": "2024-02-07T20:56:44.602682Z"
    }
   },
   "outputs": [],
   "source": [
    "from sklearn.metrics import accuracy_score"
   ]
  },
  {
   "cell_type": "code",
   "execution_count": null,
   "metadata": {
    "execution": {
     "iopub.execute_input": "2024-02-07T20:56:45.43847Z",
     "iopub.status.busy": "2024-02-07T20:56:45.438087Z",
     "iopub.status.idle": "2024-02-07T20:56:45.446776Z",
     "shell.execute_reply": "2024-02-07T20:56:45.445633Z",
     "shell.execute_reply.started": "2024-02-07T20:56:45.438441Z"
    }
   },
   "outputs": [],
   "source": [
    "accuracy_score(y_test,y_pred_lr)"
   ]
  },
  {
   "cell_type": "code",
   "execution_count": null,
   "metadata": {
    "execution": {
     "iopub.execute_input": "2024-02-07T20:56:46.878477Z",
     "iopub.status.busy": "2024-02-07T20:56:46.877658Z",
     "iopub.status.idle": "2024-02-07T20:56:46.88271Z",
     "shell.execute_reply": "2024-02-07T20:56:46.881811Z",
     "shell.execute_reply.started": "2024-02-07T20:56:46.878444Z"
    }
   },
   "outputs": [],
   "source": [
    "from sklearn.metrics import precision_score, recall_score, f1_score"
   ]
  },
  {
   "cell_type": "code",
   "execution_count": null,
   "metadata": {
    "execution": {
     "iopub.execute_input": "2024-02-07T20:56:49.915395Z",
     "iopub.status.busy": "2024-02-07T20:56:49.914453Z",
     "iopub.status.idle": "2024-02-07T20:56:49.932949Z",
     "shell.execute_reply": "2024-02-07T20:56:49.93193Z",
     "shell.execute_reply.started": "2024-02-07T20:56:49.915358Z"
    }
   },
   "outputs": [],
   "source": [
    "as_lr = accuracy_score(y_test,y_pred_lr)\n",
    "ps_lr = precision_score(y_test,y_pred_lr)\n",
    "rs_lr = recall_score(y_test,y_pred_lr)\n",
    "f1_lr = f1_score(y_test,y_pred_lr)"
   ]
  },
  {
   "cell_type": "code",
   "execution_count": null,
   "metadata": {
    "execution": {
     "iopub.execute_input": "2024-02-07T20:56:52.806933Z",
     "iopub.status.busy": "2024-02-07T20:56:52.806556Z",
     "iopub.status.idle": "2024-02-07T20:56:52.81309Z",
     "shell.execute_reply": "2024-02-07T20:56:52.811805Z",
     "shell.execute_reply.started": "2024-02-07T20:56:52.806905Z"
    }
   },
   "outputs": [],
   "source": [
    "print('Accuracy Score using Logistic Regression:',as_lr)\n",
    "\n",
    "print('Precision Score using Logistic Regression:',ps_lr)\n",
    "\n",
    "print('Recall Score using Logistic Regression:',rs_lr)\n",
    "\n",
    "print('F1 Score using Logistic Regression:',f1_lr)\n"
   ]
  },
  {
   "cell_type": "markdown",
   "metadata": {},
   "source": [
    "### 2. Support Vector Classifier (SVC) Model"
   ]
  },
  {
   "cell_type": "code",
   "execution_count": null,
   "metadata": {
    "execution": {
     "iopub.execute_input": "2024-02-07T21:03:27.493059Z",
     "iopub.status.busy": "2024-02-07T21:03:27.492666Z",
     "iopub.status.idle": "2024-02-07T21:03:27.497271Z",
     "shell.execute_reply": "2024-02-07T21:03:27.496394Z",
     "shell.execute_reply.started": "2024-02-07T21:03:27.493008Z"
    }
   },
   "outputs": [],
   "source": [
    "from sklearn import svm"
   ]
  },
  {
   "cell_type": "code",
   "execution_count": null,
   "metadata": {
    "execution": {
     "iopub.execute_input": "2024-02-07T21:03:28.760118Z",
     "iopub.status.busy": "2024-02-07T21:03:28.759704Z",
     "iopub.status.idle": "2024-02-07T21:03:33.092739Z",
     "shell.execute_reply": "2024-02-07T21:03:33.091567Z",
     "shell.execute_reply.started": "2024-02-07T21:03:28.760086Z"
    }
   },
   "outputs": [],
   "source": [
    "svc_model = svm.SVC()\n",
    "svc_model.fit(X_train, y_train)"
   ]
  },
  {
   "cell_type": "code",
   "execution_count": null,
   "metadata": {
    "execution": {
     "iopub.execute_input": "2024-02-07T21:03:40.263428Z",
     "iopub.status.busy": "2024-02-07T21:03:40.263056Z",
     "iopub.status.idle": "2024-02-07T21:03:41.281648Z",
     "shell.execute_reply": "2024-02-07T21:03:41.28067Z",
     "shell.execute_reply.started": "2024-02-07T21:03:40.2634Z"
    }
   },
   "outputs": [],
   "source": [
    "y_pred_svc = svc_model.predict(X_test)"
   ]
  },
  {
   "cell_type": "code",
   "execution_count": null,
   "metadata": {
    "execution": {
     "iopub.execute_input": "2024-02-07T21:03:54.916968Z",
     "iopub.status.busy": "2024-02-07T21:03:54.916275Z",
     "iopub.status.idle": "2024-02-07T21:03:54.93407Z",
     "shell.execute_reply": "2024-02-07T21:03:54.933066Z",
     "shell.execute_reply.started": "2024-02-07T21:03:54.916934Z"
    }
   },
   "outputs": [],
   "source": [
    "as_svc = accuracy_score(y_test,y_pred_svc)\n",
    "ps_svc = precision_score(y_test,y_pred_svc)\n",
    "rs_svc = recall_score(y_test,y_pred_svc)\n",
    "f1_svc = f1_score(y_test,y_pred_svc)"
   ]
  },
  {
   "cell_type": "code",
   "execution_count": null,
   "metadata": {
    "execution": {
     "iopub.execute_input": "2024-02-07T21:03:59.404025Z",
     "iopub.status.busy": "2024-02-07T21:03:59.403634Z",
     "iopub.status.idle": "2024-02-07T21:03:59.410305Z",
     "shell.execute_reply": "2024-02-07T21:03:59.409171Z",
     "shell.execute_reply.started": "2024-02-07T21:03:59.403983Z"
    }
   },
   "outputs": [],
   "source": [
    "print('Accuracy Score using SVC:',as_svc)\n",
    "\n",
    "print('Precision Score using SVC:',ps_svc)\n",
    "\n",
    "print('Recall Score using SVC:',rs_svc)\n",
    "\n",
    "print('F1 Score using SVC:',f1_svc)"
   ]
  },
  {
   "cell_type": "markdown",
   "metadata": {},
   "source": [
    "### 3. KNeighbors Classifier Model"
   ]
  },
  {
   "cell_type": "code",
   "execution_count": null,
   "metadata": {
    "execution": {
     "iopub.execute_input": "2024-02-07T21:05:37.833965Z",
     "iopub.status.busy": "2024-02-07T21:05:37.833592Z",
     "iopub.status.idle": "2024-02-07T21:05:37.839948Z",
     "shell.execute_reply": "2024-02-07T21:05:37.838691Z",
     "shell.execute_reply.started": "2024-02-07T21:05:37.833937Z"
    }
   },
   "outputs": [],
   "source": [
    "from sklearn.neighbors import KNeighborsClassifier"
   ]
  },
  {
   "cell_type": "code",
   "execution_count": null,
   "metadata": {
    "execution": {
     "iopub.execute_input": "2024-02-07T21:06:35.278205Z",
     "iopub.status.busy": "2024-02-07T21:06:35.277804Z",
     "iopub.status.idle": "2024-02-07T21:06:35.704082Z",
     "shell.execute_reply": "2024-02-07T21:06:35.702847Z",
     "shell.execute_reply.started": "2024-02-07T21:06:35.278176Z"
    }
   },
   "outputs": [],
   "source": [
    "model_knn = KNeighborsClassifier()\n",
    "model_knn.fit(X_train, y_train)\n",
    "y_pred_knn = model_knn.predict(X_test)"
   ]
  },
  {
   "cell_type": "code",
   "execution_count": null,
   "metadata": {
    "execution": {
     "iopub.execute_input": "2024-02-07T21:08:24.843209Z",
     "iopub.status.busy": "2024-02-07T21:08:24.842273Z",
     "iopub.status.idle": "2024-02-07T21:08:24.863243Z",
     "shell.execute_reply": "2024-02-07T21:08:24.861842Z",
     "shell.execute_reply.started": "2024-02-07T21:08:24.843164Z"
    }
   },
   "outputs": [],
   "source": [
    "as_knn = accuracy_score(y_test,y_pred_knn)\n",
    "ps_knn = precision_score(y_test,y_pred_knn)\n",
    "rs_knn = recall_score(y_test,y_pred_knn)\n",
    "f1_knn = f1_score(y_test,y_pred_knn)\n",
    "\n",
    "print('Accuracy Score using KNN:',as_knn)\n",
    "\n",
    "print('Precision Score using KNN:',ps_knn)\n",
    "\n",
    "print('Recall Score using KNN:',rs_knn)\n",
    "\n",
    "print('F1 Score using KNN:',f1_knn)\n"
   ]
  },
  {
   "cell_type": "markdown",
   "metadata": {},
   "source": [
    "### 4. Decision Tree Classifier Model"
   ]
  },
  {
   "cell_type": "code",
   "execution_count": null,
   "metadata": {
    "execution": {
     "iopub.execute_input": "2024-02-07T21:09:08.73607Z",
     "iopub.status.busy": "2024-02-07T21:09:08.735658Z",
     "iopub.status.idle": "2024-02-07T21:09:08.741604Z",
     "shell.execute_reply": "2024-02-07T21:09:08.740352Z",
     "shell.execute_reply.started": "2024-02-07T21:09:08.736041Z"
    }
   },
   "outputs": [],
   "source": [
    "from sklearn.tree import DecisionTreeClassifier"
   ]
  },
  {
   "cell_type": "code",
   "execution_count": null,
   "metadata": {
    "execution": {
     "iopub.execute_input": "2024-02-07T21:09:43.696274Z",
     "iopub.status.busy": "2024-02-07T21:09:43.695872Z",
     "iopub.status.idle": "2024-02-07T21:09:43.782702Z",
     "shell.execute_reply": "2024-02-07T21:09:43.781613Z",
     "shell.execute_reply.started": "2024-02-07T21:09:43.696245Z"
    }
   },
   "outputs": [],
   "source": [
    "model_tree = DecisionTreeClassifier()\n",
    "\n",
    "model_tree.fit(X_train,y_train)\n",
    "\n",
    "y_pred_tree = model_tree.predict(X_test)"
   ]
  },
  {
   "cell_type": "code",
   "execution_count": null,
   "metadata": {
    "execution": {
     "iopub.execute_input": "2024-02-07T21:11:18.519299Z",
     "iopub.status.busy": "2024-02-07T21:11:18.518897Z",
     "iopub.status.idle": "2024-02-07T21:11:18.538445Z",
     "shell.execute_reply": "2024-02-07T21:11:18.537261Z",
     "shell.execute_reply.started": "2024-02-07T21:11:18.519265Z"
    }
   },
   "outputs": [],
   "source": [
    "as_tree = accuracy_score(y_test,y_pred_tree)\n",
    "ps_tree = precision_score(y_test,y_pred_tree)\n",
    "rs_tree = recall_score(y_test,y_pred_tree)\n",
    "f1_tree = f1_score(y_test,y_pred_tree)\n",
    "\n",
    "print('Accuracy Score using Decision Tree:',as_tree)\n",
    "\n",
    "print('Precision Score using Decision Tree:',ps_tree)\n",
    "\n",
    "print('Recall Score using Decision Tree:',rs_tree)\n",
    "\n",
    "print('F1 Score using Decision Tree:',f1_tree)\n"
   ]
  },
  {
   "cell_type": "markdown",
   "metadata": {},
   "source": [
    "### 5. Random Forest Classifier Model"
   ]
  },
  {
   "cell_type": "code",
   "execution_count": null,
   "metadata": {
    "execution": {
     "iopub.execute_input": "2024-02-07T21:13:07.263522Z",
     "iopub.status.busy": "2024-02-07T21:13:07.262318Z",
     "iopub.status.idle": "2024-02-07T21:13:09.321183Z",
     "shell.execute_reply": "2024-02-07T21:13:09.320063Z",
     "shell.execute_reply.started": "2024-02-07T21:13:07.263483Z"
    }
   },
   "outputs": [],
   "source": [
    "from sklearn.ensemble import RandomForestClassifier\n",
    "\n",
    "model_rf = RandomForestClassifier()\n",
    "\n",
    "model_rf.fit(X_train, y_train)\n",
    "\n",
    "y_pred_rf = model_rf.predict(X_test)"
   ]
  },
  {
   "cell_type": "code",
   "execution_count": null,
   "metadata": {
    "execution": {
     "iopub.execute_input": "2024-02-07T21:14:42.639108Z",
     "iopub.status.busy": "2024-02-07T21:14:42.638691Z",
     "iopub.status.idle": "2024-02-07T21:14:42.66016Z",
     "shell.execute_reply": "2024-02-07T21:14:42.659061Z",
     "shell.execute_reply.started": "2024-02-07T21:14:42.639078Z"
    }
   },
   "outputs": [],
   "source": [
    "as_rf = accuracy_score(y_test,y_pred_rf)\n",
    "ps_rf = precision_score(y_test,y_pred_rf)\n",
    "rs_rf = recall_score(y_test,y_pred_rf)\n",
    "f1_rf = f1_score(y_test,y_pred_rf)\n",
    "\n",
    "print('Accuracy Score using Random Forest:',as_rf)\n",
    "\n",
    "print('Precision Score using Random Forest:',ps_rf)\n",
    "\n",
    "print('Recall Score using Random Forest:',rs_rf)\n",
    "\n",
    "print('F1 Score using Random Forest:',f1_rf)"
   ]
  },
  {
   "cell_type": "markdown",
   "metadata": {},
   "source": [
    "### 6. Gradient Boosting Classifier Model"
   ]
  },
  {
   "cell_type": "code",
   "execution_count": null,
   "metadata": {
    "execution": {
     "iopub.execute_input": "2024-02-07T21:17:50.477185Z",
     "iopub.status.busy": "2024-02-07T21:17:50.476645Z",
     "iopub.status.idle": "2024-02-07T21:17:52.41615Z",
     "shell.execute_reply": "2024-02-07T21:17:52.415081Z",
     "shell.execute_reply.started": "2024-02-07T21:17:50.477154Z"
    }
   },
   "outputs": [],
   "source": [
    "from sklearn.ensemble import GradientBoostingClassifier\n",
    "\n",
    "model_gb = GradientBoostingClassifier()\n",
    "\n",
    "model_gb.fit(X_train,y_train)\n",
    "\n",
    "y_pred_gb = model_gb.predict(X_test)"
   ]
  },
  {
   "cell_type": "code",
   "execution_count": null,
   "metadata": {
    "execution": {
     "iopub.execute_input": "2024-02-07T21:19:41.168635Z",
     "iopub.status.busy": "2024-02-07T21:19:41.168223Z",
     "iopub.status.idle": "2024-02-07T21:19:41.189902Z",
     "shell.execute_reply": "2024-02-07T21:19:41.188756Z",
     "shell.execute_reply.started": "2024-02-07T21:19:41.168607Z"
    }
   },
   "outputs": [],
   "source": [
    "as_gb = accuracy_score(y_test,y_pred_gb)\n",
    "ps_gb = precision_score(y_test,y_pred_gb)\n",
    "rs_gb = recall_score(y_test,y_pred_gb)\n",
    "f1_gb = f1_score(y_test,y_pred_gb)\n",
    "\n",
    "print('Accuracy Score using Gradient Boosting:',as_gb)\n",
    "\n",
    "print('Precision Score using Gradient Boosting:',ps_gb)\n",
    "\n",
    "print('Recall Score using Gradient Boosting:',rs_gb)\n",
    "\n",
    "print('F1 Score using Gradient Boosting:',f1_gb)"
   ]
  },
  {
   "cell_type": "markdown",
   "metadata": {},
   "source": [
    "### 7. XGBoost Classifier Model"
   ]
  },
  {
   "cell_type": "code",
   "execution_count": null,
   "metadata": {
    "execution": {
     "iopub.execute_input": "2024-02-07T21:23:53.097498Z",
     "iopub.status.busy": "2024-02-07T21:23:53.097128Z",
     "iopub.status.idle": "2024-02-07T21:23:53.343493Z",
     "shell.execute_reply": "2024-02-07T21:23:53.342623Z",
     "shell.execute_reply.started": "2024-02-07T21:23:53.097472Z"
    }
   },
   "outputs": [],
   "source": [
    "from xgboost import XGBClassifier\n",
    "\n",
    "model_xgb = XGBClassifier()\n",
    "\n",
    "model_xgb.fit(X_train,y_train)\n",
    "\n",
    "y_pred_xgb = model_xgb.predict(X_test)"
   ]
  },
  {
   "cell_type": "code",
   "execution_count": null,
   "metadata": {
    "execution": {
     "iopub.execute_input": "2024-02-07T21:25:36.198573Z",
     "iopub.status.busy": "2024-02-07T21:25:36.198163Z",
     "iopub.status.idle": "2024-02-07T21:25:36.218058Z",
     "shell.execute_reply": "2024-02-07T21:25:36.216676Z",
     "shell.execute_reply.started": "2024-02-07T21:25:36.198543Z"
    }
   },
   "outputs": [],
   "source": [
    "as_xgb = accuracy_score(y_test,y_pred_xgb)\n",
    "ps_xgb = precision_score(y_test,y_pred_xgb)\n",
    "rs_xgb = recall_score(y_test,y_pred_xgb)\n",
    "f1_xgb = f1_score(y_test,y_pred_xgb)\n",
    "\n",
    "print('Accuracy Score using XGBoost:',as_xgb)\n",
    "\n",
    "print('Precision Score using XGBoost:',ps_xgb)\n",
    "\n",
    "print('Recall Score using XGBoost:',rs_xgb)\n",
    "\n",
    "print('F1 Score using XGBoost:',f1_xgb)"
   ]
  },
  {
   "cell_type": "markdown",
   "metadata": {},
   "source": [
    "### Visualise all the Models"
   ]
  },
  {
   "cell_type": "code",
   "execution_count": null,
   "metadata": {
    "execution": {
     "iopub.execute_input": "2024-02-07T21:35:39.131212Z",
     "iopub.status.busy": "2024-02-07T21:35:39.130101Z",
     "iopub.status.idle": "2024-02-07T21:35:39.139301Z",
     "shell.execute_reply": "2024-02-07T21:35:39.138109Z",
     "shell.execute_reply.started": "2024-02-07T21:35:39.131167Z"
    }
   },
   "outputs": [],
   "source": [
    "model_df = pd.DataFrame(\n",
    "    {'Models':\n",
    "         ['Logistic Regression','Support Vector Classifier',\n",
    "          'KNN', 'Decision Tree','Random Forest',\n",
    "          'Gradient Boosting','XGBoost'],\n",
    "     'Accuracy Score':\n",
    "         [as_lr,as_svc,\n",
    "          as_knn,as_tree,as_rf,\n",
    "          as_gb, as_xgb],\n",
    "     'Precision Score':\n",
    "         [ps_lr,ps_svc,\n",
    "          ps_knn,ps_tree,ps_rf,\n",
    "          ps_gb, ps_xgb],\n",
    "     'Recall Score':\n",
    "         [rs_lr,rs_svc,\n",
    "          rs_knn,rs_tree,rs_rf,\n",
    "          rs_gb, rs_xgb],\n",
    "     'F1 Score':\n",
    "         [f1_lr,f1_svc,\n",
    "          f1_knn,f1_tree,f1_rf,\n",
    "          f1_gb, f1_xgb],\n",
    "     \n",
    "    })\n",
    "                       \n",
    "    "
   ]
  },
  {
   "cell_type": "code",
   "execution_count": null,
   "metadata": {
    "execution": {
     "iopub.execute_input": "2024-02-07T21:35:41.328443Z",
     "iopub.status.busy": "2024-02-07T21:35:41.32808Z",
     "iopub.status.idle": "2024-02-07T21:35:41.341672Z",
     "shell.execute_reply": "2024-02-07T21:35:41.340483Z",
     "shell.execute_reply.started": "2024-02-07T21:35:41.328417Z"
    }
   },
   "outputs": [],
   "source": [
    "model_df"
   ]
  },
  {
   "cell_type": "code",
   "execution_count": null,
   "metadata": {
    "execution": {
     "iopub.execute_input": "2024-02-07T21:58:08.096903Z",
     "iopub.status.busy": "2024-02-07T21:58:08.095623Z",
     "iopub.status.idle": "2024-02-07T21:58:08.31646Z",
     "shell.execute_reply": "2024-02-07T21:58:08.314954Z",
     "shell.execute_reply.started": "2024-02-07T21:58:08.096849Z"
    }
   },
   "outputs": [],
   "source": [
    "# Visualising F1 Score for each model\n",
    "\n",
    "import matplotlib.pyplot as plt \n",
    "\n",
    "plt.figure(figsize=(6,6))\n",
    "model_plot = sns.barplot(data=model_df,y=model_df['Models'],x=model_df['F1 Score'])"
   ]
  },
  {
   "cell_type": "markdown",
   "metadata": {
    "execution": {
     "iopub.execute_input": "2024-02-07T21:59:44.210006Z",
     "iopub.status.busy": "2024-02-07T21:59:44.209139Z",
     "iopub.status.idle": "2024-02-07T21:59:44.215059Z",
     "shell.execute_reply": "2024-02-07T21:59:44.213481Z",
     "shell.execute_reply.started": "2024-02-07T21:59:44.209968Z"
    }
   },
   "source": [
    "#### from the above Random Forest and XGBoost are 1st and 2nd best models with default parameters\n",
    "\n",
    "#### now saved the Random Forest Modle for future use"
   ]
  },
  {
   "cell_type": "code",
   "execution_count": null,
   "metadata": {
    "execution": {
     "iopub.execute_input": "2024-02-07T22:00:56.055996Z",
     "iopub.status.busy": "2024-02-07T22:00:56.055597Z",
     "iopub.status.idle": "2024-02-07T22:00:56.060962Z",
     "shell.execute_reply": "2024-02-07T22:00:56.059813Z",
     "shell.execute_reply.started": "2024-02-07T22:00:56.055968Z"
    }
   },
   "outputs": [],
   "source": [
    "import joblib"
   ]
  },
  {
   "cell_type": "code",
   "execution_count": null,
   "metadata": {
    "execution": {
     "iopub.execute_input": "2024-02-07T22:01:38.962959Z",
     "iopub.status.busy": "2024-02-07T22:01:38.962557Z",
     "iopub.status.idle": "2024-02-07T22:01:39.060677Z",
     "shell.execute_reply": "2024-02-07T22:01:39.059597Z",
     "shell.execute_reply.started": "2024-02-07T22:01:38.96292Z"
    }
   },
   "outputs": [],
   "source": [
    "joblib.dump(model_rf,'churn_predict_model')"
   ]
  }
 ],
 "metadata": {
  "kaggle": {
   "accelerator": "none",
   "dataSources": [
    {
     "datasetId": 66163,
     "sourceId": 130012,
     "sourceType": "datasetVersion"
    }
   ],
   "dockerImageVersionId": 30646,
   "isGpuEnabled": false,
   "isInternetEnabled": false,
   "language": "python",
   "sourceType": "notebook"
  },
  "kernelspec": {
   "display_name": "Python 3 (ipykernel)",
   "language": "python",
   "name": "python3"
  },
  "language_info": {
   "codemirror_mode": {
    "name": "ipython",
    "version": 3
   },
   "file_extension": ".py",
   "mimetype": "text/x-python",
   "name": "python",
   "nbconvert_exporter": "python",
   "pygments_lexer": "ipython3",
   "version": "3.12.4"
  }
 },
 "nbformat": 4,
 "nbformat_minor": 4
}
